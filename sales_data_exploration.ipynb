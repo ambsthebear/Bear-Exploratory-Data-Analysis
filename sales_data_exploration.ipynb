{
 "cells": [
  {
   "attachments": {},
   "cell_type": "markdown",
   "metadata": {},
   "source": [
    "## **Exploratory Data Analysis** - **sales data exploration**\n",
    "### *Part 1* "
   ]
  },
  {
   "attachments": {},
   "cell_type": "markdown",
   "metadata": {},
   "source": [
    "### Set up imports for access to Pandas, Matplotlib, and My SQL Connector Python libraries"
   ]
  },
  {
   "cell_type": "code",
   "execution_count": 1,
   "metadata": {},
   "outputs": [],
   "source": [
    "import pandas as pd\n",
    "import matplotlib as plt\n",
    "import mysql.connector as connection"
   ]
  },
  {
   "attachments": {},
   "cell_type": "markdown",
   "metadata": {},
   "source": [
    "### Connect to my remote data source"
   ]
  },
  {
   "cell_type": "code",
   "execution_count": 2,
   "metadata": {},
   "outputs": [],
   "source": [
    "sales_db = connection.connect(host=\"devcodecamp-mysql.c5p7yvjq1h8y.us-east-2.rds.amazonaws.com\", database=\"salesdb\", user=\"root\", password=\"D3v$tudent\", use_pure=True)\n"
   ]
  },
  {
   "attachments": {},
   "cell_type": "markdown",
   "metadata": {},
   "source": [
    "### Query my database to JOIN the information from the sales and cities tables together, and save the result as a single DataFrame variable"
   ]
  },
  {
   "cell_type": "code",
   "execution_count": 3,
   "metadata": {},
   "outputs": [
    {
     "name": "stderr",
     "output_type": "stream",
     "text": [
      "C:\\Users\\16306\\AppData\\Local\\Temp\\ipykernel_7188\\3162691381.py:14: UserWarning: pandas only supports SQLAlchemy connectable (engine/connection) or database string URI or sqlite3 DBAPI2 connection. Other DBAPI2 objects are not tested. Please consider using SQLAlchemy.\n",
      "  joined_sales_df = pd.read_sql(joinquery,sales_db)\n"
     ]
    },
    {
     "data": {
      "text/html": [
       "<div>\n",
       "<style scoped>\n",
       "    .dataframe tbody tr th:only-of-type {\n",
       "        vertical-align: middle;\n",
       "    }\n",
       "\n",
       "    .dataframe tbody tr th {\n",
       "        vertical-align: top;\n",
       "    }\n",
       "\n",
       "    .dataframe thead th {\n",
       "        text-align: right;\n",
       "    }\n",
       "</style>\n",
       "<table border=\"1\" class=\"dataframe\">\n",
       "  <thead>\n",
       "    <tr style=\"text-align: right;\">\n",
       "      <th></th>\n",
       "      <th>Invoice_ID</th>\n",
       "      <th>Customer_Type</th>\n",
       "      <th>Product_Line</th>\n",
       "      <th>Unit_Price</th>\n",
       "      <th>Quantity</th>\n",
       "      <th>Total</th>\n",
       "      <th>Gross_Income</th>\n",
       "      <th>Rating</th>\n",
       "      <th>City</th>\n",
       "    </tr>\n",
       "  </thead>\n",
       "  <tbody>\n",
       "    <tr>\n",
       "      <th>0</th>\n",
       "      <td>101-17-6199</td>\n",
       "      <td>Normal</td>\n",
       "      <td>Food and beverages</td>\n",
       "      <td>45.79</td>\n",
       "      <td>7</td>\n",
       "      <td>336.5565</td>\n",
       "      <td>16.0265</td>\n",
       "      <td>7.0</td>\n",
       "      <td>Seattle</td>\n",
       "    </tr>\n",
       "    <tr>\n",
       "      <th>1</th>\n",
       "      <td>101-81-4070</td>\n",
       "      <td>Member</td>\n",
       "      <td>Health and beauty</td>\n",
       "      <td>62.82</td>\n",
       "      <td>2</td>\n",
       "      <td>131.9220</td>\n",
       "      <td>6.2820</td>\n",
       "      <td>4.9</td>\n",
       "      <td>Milwaukee</td>\n",
       "    </tr>\n",
       "    <tr>\n",
       "      <th>2</th>\n",
       "      <td>102-06-2002</td>\n",
       "      <td>Member</td>\n",
       "      <td>Sports and travel</td>\n",
       "      <td>25.25</td>\n",
       "      <td>5</td>\n",
       "      <td>132.5625</td>\n",
       "      <td>6.3125</td>\n",
       "      <td>6.1</td>\n",
       "      <td>Milwaukee</td>\n",
       "    </tr>\n",
       "    <tr>\n",
       "      <th>3</th>\n",
       "      <td>102-77-2261</td>\n",
       "      <td>Member</td>\n",
       "      <td>Health and beauty</td>\n",
       "      <td>65.31</td>\n",
       "      <td>7</td>\n",
       "      <td>480.0285</td>\n",
       "      <td>22.8585</td>\n",
       "      <td>4.2</td>\n",
       "      <td>Milwaukee</td>\n",
       "    </tr>\n",
       "    <tr>\n",
       "      <th>4</th>\n",
       "      <td>105-10-6182</td>\n",
       "      <td>Member</td>\n",
       "      <td>Fashion accessories</td>\n",
       "      <td>21.48</td>\n",
       "      <td>2</td>\n",
       "      <td>45.1080</td>\n",
       "      <td>2.1480</td>\n",
       "      <td>6.6</td>\n",
       "      <td>Seattle</td>\n",
       "    </tr>\n",
       "  </tbody>\n",
       "</table>\n",
       "</div>"
      ],
      "text/plain": [
       "    Invoice_ID Customer_Type         Product_Line  Unit_Price  Quantity   \n",
       "0  101-17-6199        Normal   Food and beverages       45.79         7  \\\n",
       "1  101-81-4070        Member    Health and beauty       62.82         2   \n",
       "2  102-06-2002        Member    Sports and travel       25.25         5   \n",
       "3  102-77-2261        Member    Health and beauty       65.31         7   \n",
       "4  105-10-6182        Member  Fashion accessories       21.48         2   \n",
       "\n",
       "      Total  Gross_Income  Rating       City  \n",
       "0  336.5565       16.0265     7.0    Seattle  \n",
       "1  131.9220        6.2820     4.9  Milwaukee  \n",
       "2  132.5625        6.3125     6.1  Milwaukee  \n",
       "3  480.0285       22.8585     4.2  Milwaukee  \n",
       "4   45.1080        2.1480     6.6    Seattle  "
      ]
     },
     "execution_count": 3,
     "metadata": {},
     "output_type": "execute_result"
    }
   ],
   "source": [
    "joinquery = \"\"\"SELECT sales.Invoice_ID,\n",
    "    sales.Customer_Type,\n",
    "    sales.Product_Line,\n",
    "    sales.Unit_Price,\n",
    "    sales.Quantity,\n",
    "    sales.Total,\n",
    "    sales.Gross_Income,\n",
    "    sales.Rating,\n",
    "    cities.City\n",
    "    FROM sales\n",
    "    JOIN cities\n",
    "    ON sales.City_ID = cities.City_ID\n",
    "    \"\"\"\n",
    "joined_sales_df = pd.read_sql(joinquery,sales_db)\n",
    "joined_sales_df.head()"
   ]
  },
  {
   "attachments": {},
   "cell_type": "markdown",
   "metadata": {},
   "source": [
    "### Data cleaning and wrangling steps for my DataFrame:\n",
    "- Exploring the information of the joined DataFrame\n",
    "- Checking for and removing null values, if necessary\n",
    "- Checking for and removing duplicate rows, if necessary\n",
    "- Converting any necessary columns to Pandas DateTime format\n"
   ]
  },
  {
   "cell_type": "code",
   "execution_count": null,
   "metadata": {},
   "outputs": [],
   "source": [
    "#remove nulls"
   ]
  },
  {
   "cell_type": "code",
   "execution_count": null,
   "metadata": {},
   "outputs": [],
   "source": [
    "#remove dupes"
   ]
  },
  {
   "cell_type": "code",
   "execution_count": null,
   "metadata": {},
   "outputs": [],
   "source": [
    "#convert datetime"
   ]
  },
  {
   "attachments": {},
   "cell_type": "markdown",
   "metadata": {},
   "source": [
    "### Explore my DataFrame to examine the spread of values across categories.  I will utilize this exploration to answer the following questions:\n",
    "- How many sales were made for members vs. normal customers?\n",
    "- How many sales were made at each store location?\n",
    "- How many sales were made for each product line?\n",
    "- What is the overall average rating, based on all sales records?\n"
   ]
  },
  {
   "attachments": {},
   "cell_type": "markdown",
   "metadata": {},
   "source": [
    "Exploration Question 1 - How many sales were made for members vs. normal customers?"
   ]
  },
  {
   "cell_type": "code",
   "execution_count": null,
   "metadata": {},
   "outputs": [],
   "source": [
    "#exploration1- How many sales were made for members vs. normal customers?"
   ]
  },
  {
   "cell_type": "code",
   "execution_count": null,
   "metadata": {},
   "outputs": [],
   "source": [
    "#viz1- How many sales were made for members vs. normal customers?"
   ]
  },
  {
   "attachments": {},
   "cell_type": "markdown",
   "metadata": {},
   "source": [
    "Exploration Question 2 - How many sales were made at each store location?"
   ]
  },
  {
   "cell_type": "code",
   "execution_count": null,
   "metadata": {},
   "outputs": [],
   "source": [
    "#exploration2- How many sales were made at each store location?"
   ]
  },
  {
   "cell_type": "code",
   "execution_count": null,
   "metadata": {},
   "outputs": [],
   "source": [
    "#viz2- How many sales were made at each store location?"
   ]
  },
  {
   "attachments": {},
   "cell_type": "markdown",
   "metadata": {},
   "source": [
    "Exploration Question 3 - How many sales were made for each product line?"
   ]
  },
  {
   "cell_type": "code",
   "execution_count": null,
   "metadata": {},
   "outputs": [],
   "source": [
    "#exploration3- How many sales were made for each product line?"
   ]
  },
  {
   "cell_type": "code",
   "execution_count": null,
   "metadata": {},
   "outputs": [],
   "source": [
    "#viz3- How many sales were made for each product line?"
   ]
  },
  {
   "attachments": {},
   "cell_type": "markdown",
   "metadata": {},
   "source": [
    "Exploration Question 4 - What is the overall average rating, based on all sales records?"
   ]
  },
  {
   "cell_type": "code",
   "execution_count": null,
   "metadata": {},
   "outputs": [],
   "source": [
    "#exploration4"
   ]
  }
 ],
 "metadata": {
  "kernelspec": {
   "display_name": "Python 3",
   "language": "python",
   "name": "python3"
  },
  "language_info": {
   "codemirror_mode": {
    "name": "ipython",
    "version": 3
   },
   "file_extension": ".py",
   "mimetype": "text/x-python",
   "name": "python",
   "nbconvert_exporter": "python",
   "pygments_lexer": "ipython3",
   "version": "3.11.1"
  },
  "orig_nbformat": 4
 },
 "nbformat": 4,
 "nbformat_minor": 2
}
